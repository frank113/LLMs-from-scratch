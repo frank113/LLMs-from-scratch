{
 "cells": [
  {
   "cell_type": "markdown",
   "id": "48154d70",
   "metadata": {},
   "source": [
    "# Weight Loading Deep Dive\n",
    "\n",
    "This notebook will make sense of the `load_weights` function introduced in chapter 5 and referenced in `weight-loading-hf-transformers` supplementary material. We will first load all necessary dependencies."
   ]
  },
  {
   "cell_type": "code",
   "execution_count": null,
   "id": "d0826239",
   "metadata": {},
   "outputs": [],
   "source": [
    "from importlib.metadata import version\n",
    "import torch\n",
    "import numpy as np\n",
    "import transformers\n",
    "\n",
    "pkgs = [\"numpy\", \"torch\", \"transformers\"]\n",
    "for p in pkgs:\n",
    "    print(f\"{p} version: {version(p)}\")"
   ]
  },
  {
   "cell_type": "code",
   "execution_count": null,
   "id": "1414f02c",
   "metadata": {},
   "outputs": [],
   "source": [
    "from transformers import GPT2Model\n",
    "\n",
    "\n",
    "# allowed model names\n",
    "model_names = {\n",
    "    \"gpt2-small (124M)\": \"openai-community/gpt2\",\n",
    "    \"gpt2-medium (355M)\": \"openai-community/gpt2-medium\",\n",
    "    \"gpt2-large (774M)\": \"openai-community/gpt2-large\",\n",
    "    \"gpt2-xl (1558M)\": \"openai-community/gpt2-xl\"\n",
    "}\n",
    "\n",
    "CHOOSE_MODEL = \"gpt2-small (124M)\"\n",
    "\n",
    "gpt_hf = GPT2Model.from_pretrained(model_names[CHOOSE_MODEL], cache_dir=\"checkpoints\")\n",
    "gpt_hf.eval()"
   ]
  },
  {
   "cell_type": "markdown",
   "id": "31d3707f",
   "metadata": {},
   "source": [
    "Create model configs. Note that we have externalized them into the `model_config` directory."
   ]
  },
  {
   "cell_type": "code",
   "execution_count": 2,
   "id": "c70391c2",
   "metadata": {},
   "outputs": [],
   "source": [
    "import json\n",
    "\n",
    "with open(\"model_config/base_config.json\", \"r\") as base_file:\n",
    "\tBASE_CONFIG = json.load(base_file)\n",
    "\n",
    "with open(\"model_config/model_configs.json\", \"r\") as model_file:\n",
    "\tmodel_configs = json.load(model_file)\n",
    "\n",
    "with open(\"model_config/model_names.json\", \"r\") as names_file:\n",
    "\tmodel_names = json.load(names_file)"
   ]
  },
  {
   "cell_type": "markdown",
   "id": "426a635a",
   "metadata": {},
   "source": [
    "We note that we will be working with the model `gpt2-small (124M)`. We will therefore use the `CHOOSE_MODEL` variable to index into the appropriate configurations."
   ]
  },
  {
   "cell_type": "code",
   "execution_count": null,
   "id": "49da421a",
   "metadata": {},
   "outputs": [],
   "source": [
    "CHOOSE_MODEL = \"gpt2-small (124M)\""
   ]
  },
  {
   "cell_type": "code",
   "execution_count": null,
   "id": "ea59c282",
   "metadata": {},
   "outputs": [],
   "source": []
  }
 ],
 "metadata": {
  "kernelspec": {
   "display_name": "llms-from-scratch",
   "language": "python",
   "name": "python3"
  },
  "language_info": {
   "codemirror_mode": {
    "name": "ipython",
    "version": 3
   },
   "file_extension": ".py",
   "mimetype": "text/x-python",
   "name": "python",
   "nbconvert_exporter": "python",
   "pygments_lexer": "ipython3",
   "version": "3.11.13"
  }
 },
 "nbformat": 4,
 "nbformat_minor": 5
}
